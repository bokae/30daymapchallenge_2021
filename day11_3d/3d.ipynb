{
 "cells": [
  {
   "cell_type": "code",
   "execution_count": 1,
   "id": "2e82fba9",
   "metadata": {},
   "outputs": [],
   "source": [
    "# !pip install keplergl\n",
    "# data source: https://www.cbs.nl/-/media/cbs/dossiers/nederland-regionaal/vierkanten/500/2021-cbs_vk500_2020_v1.zip\n",
    "\n",
    "# !wget https://www.cbs.nl/-/media/cbs/dossiers/nederland-regionaal/vierkanten/500/2021-cbs_vk500_2020_v1.zip\n",
    "# !unzip 2021-cbs_vk500_2020_v1.zip\n",
    "\n",
    "# followed installation instructions for Jupyter from https://docs.kepler.gl/docs/keplergl-jupyter"
   ]
  },
  {
   "cell_type": "code",
   "execution_count": 7,
   "id": "0e5a800e",
   "metadata": {},
   "outputs": [],
   "source": [
    "import geopandas as gpd\n",
    "from keplergl import KeplerGl"
   ]
  },
  {
   "cell_type": "code",
   "execution_count": 5,
   "id": "1a6d2e0a",
   "metadata": {},
   "outputs": [],
   "source": [
    "gdf = gpd.read_file('./CBS_vk500_2020_v1.shp')[['c28992r500','INWONER','geometry']]\n",
    "gdf = gdf[gdf['INWONER']>0]"
   ]
  },
  {
   "cell_type": "code",
   "execution_count": 10,
   "id": "43b6aa56",
   "metadata": {},
   "outputs": [
    {
     "name": "stdout",
     "output_type": "stream",
     "text": [
      "User Guide: https://docs.kepler.gl/docs/keplergl-jupyter\n"
     ]
    },
    {
     "data": {
      "application/vnd.jupyter.widget-view+json": {
       "model_id": "d4e62b43c5f24661981166e9dccc4390",
       "version_major": 2,
       "version_minor": 0
      },
      "text/plain": [
       "KeplerGl(data={'Population':         c28992r500  INWONER                                           geometry\n",
       "26…"
      ]
     },
     "metadata": {},
     "output_type": "display_data"
    }
   ],
   "source": [
    "mymap=KeplerGl(height=1000,data={'Population': gdf})\n",
    "mymap"
   ]
  }
 ],
 "metadata": {
  "kernelspec": {
   "display_name": "Python 3 (ipykernel)",
   "language": "python",
   "name": "python3"
  },
  "language_info": {
   "codemirror_mode": {
    "name": "ipython",
    "version": 3
   },
   "file_extension": ".py",
   "mimetype": "text/x-python",
   "name": "python",
   "nbconvert_exporter": "python",
   "pygments_lexer": "ipython3",
   "version": "3.8.8"
  }
 },
 "nbformat": 4,
 "nbformat_minor": 5
}
