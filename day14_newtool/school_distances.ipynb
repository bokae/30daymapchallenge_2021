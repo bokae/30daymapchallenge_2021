{
 "cells": [
  {
   "cell_type": "code",
   "execution_count": null,
   "id": "14645af7-0529-4777-82d1-b3e4cc1ea4f8",
   "metadata": {},
   "outputs": [],
   "source": [
    "using Pkg\n",
    "\n",
    "# Pkg.add(\"DataFrames\")\n",
    "# Pkg.add(\"CSV\")\n",
    "\n",
    "using DataFrames, CSV"
   ]
  },
  {
   "cell_type": "code",
   "execution_count": null,
   "id": "93afeeb7-b94e-47ea-9744-7f8f97ee4a0e",
   "metadata": {
    "tags": []
   },
   "outputs": [],
   "source": [
    "# File from DUO: gemiddelde-afstand-tussen-woonadres-leerling-en-schoolvestiging-2020-2021\n",
    "\n",
    "df = CSV.read(\"data.csv\", DataFrame, delim=\";\", decimal=',');"
   ]
  },
  {
   "cell_type": "code",
   "execution_count": null,
   "id": "e68197b0-26c3-4f0b-8c65-c2e21d81b191",
   "metadata": {},
   "outputs": [],
   "source": [
    "size(unique(df, :GEMEENTENUMMER))"
   ]
  },
  {
   "cell_type": "code",
   "execution_count": null,
   "id": "445f1f94-b52f-4086-a650-8c6ce9447a8f",
   "metadata": {
    "tags": []
   },
   "outputs": [],
   "source": [
    "gdf = groupby(df, :GEMEENTENUMMER)"
   ]
  },
  {
   "cell_type": "code",
   "execution_count": null,
   "id": "61b734ac-a96b-49ac-af6f-de1f611b3ed0",
   "metadata": {
    "tags": []
   },
   "outputs": [],
   "source": [
    "using Statistics\n",
    "\n",
    "distances = combine(gdf, :AFSTAND => mean)"
   ]
  },
  {
   "cell_type": "code",
   "execution_count": null,
   "id": "97d2e930-46ce-435f-80fb-ed950aa6a862",
   "metadata": {
    "tags": []
   },
   "outputs": [],
   "source": [
    "using GeoDataFrames; const GDF=GeoDataFrames"
   ]
  },
  {
   "cell_type": "code",
   "execution_count": null,
   "id": "e074f0ec-d20b-409f-a452-5638cb2ad9e3",
   "metadata": {
    "tags": []
   },
   "outputs": [],
   "source": [
    "# https://www.cbs.nl/nl-nl/dossier/nederland-regionaal/geografische-data/wijk-en-buurtkaart-2020\n",
    "gemeente = GDF.read(\"WijkBuurtkaart_2020_v2/gemeente_2020_v2.shp\")"
   ]
  },
  {
   "cell_type": "code",
   "execution_count": null,
   "id": "e05e5418-0219-423e-85c3-8204e5bfc5ab",
   "metadata": {},
   "outputs": [],
   "source": [
    "# Change the Gemeente code into a number.\n",
    "chop(\"GM0002\", head = 2, tail = 0)"
   ]
  },
  {
   "cell_type": "code",
   "execution_count": null,
   "id": "20bdf814-2a95-48fe-a3ee-0067321c10d6",
   "metadata": {
    "tags": []
   },
   "outputs": [],
   "source": [
    "transform!(gemeente, :GM_CODE => x -> chop.(x, head = 2, tail = 0));"
   ]
  },
  {
   "cell_type": "code",
   "execution_count": null,
   "id": "eb2d8cf7-efa7-4e00-890d-d06891984839",
   "metadata": {
    "tags": []
   },
   "outputs": [],
   "source": [
    "gemeente[!,:GM_CODE_function] = parse.(Int64, gemeente[:,:GM_CODE_function]);"
   ]
  },
  {
   "cell_type": "code",
   "execution_count": null,
   "id": "a5591fbc-6e8f-416a-aeae-f4e59bd3e860",
   "metadata": {
    "tags": []
   },
   "outputs": [],
   "source": [
    "data = rightjoin(distances, gemeente, on = on = :GEMEENTENUMMER => :GM_CODE_function)"
   ]
  },
  {
   "cell_type": "code",
   "execution_count": null,
   "id": "e808fc3b-85fa-4bb7-836c-9109598e5dd1",
   "metadata": {
    "tags": []
   },
   "outputs": [],
   "source": [
    "using Plots"
   ]
  },
  {
   "cell_type": "code",
   "execution_count": null,
   "id": "eb7f5a90-af45-472d-82cf-dbd771e1b05d",
   "metadata": {
    "tags": []
   },
   "outputs": [],
   "source": [
    "row_filter = data.H2O .== \"NEE\";"
   ]
  },
  {
   "cell_type": "code",
   "execution_count": null,
   "id": "c2a61eec-34dc-4eb0-ab84-98b89ff80202",
   "metadata": {
    "tags": []
   },
   "outputs": [],
   "source": [
    "municipality_data = data[row_filter, :];"
   ]
  },
  {
   "cell_type": "code",
   "execution_count": null,
   "id": "cc74f1ca-66f0-4b54-9d36-e73bb6a2b220",
   "metadata": {
    "tags": []
   },
   "outputs": [],
   "source": [
    "municipality_shape = data.geom[row_filter, :];"
   ]
  },
  {
   "cell_type": "code",
   "execution_count": null,
   "id": "5f5ed55a-6d64-47c0-89d9-45728b52eb95",
   "metadata": {
    "tags": []
   },
   "outputs": [],
   "source": [
    "using LinearAlgebra\n",
    "\n",
    "values_ = municipality_data[:, :AFSTAND_mean]\n",
    "normalized_values = normalize(values_);"
   ]
  },
  {
   "cell_type": "code",
   "execution_count": null,
   "id": "57ee0c67-1208-4a5f-9ef7-14c183c736f6",
   "metadata": {
    "tags": []
   },
   "outputs": [],
   "source": [
    "using Plots\n",
    "\n",
    "colors = Array([cgrad(:heat)[value] for value in normalized_values])\n",
    "\n",
    "# plot thematic map\n",
    "p = plot(dpi = 300, size=(500, 600), axis=false, ticks=false)\n",
    "for i = 1:nrow(municipality_data)\n",
    "    plot!(municipality_shape[i], color=colors[i])\n",
    "end\n",
    "plot!(plot_title=\"Average distance from student home to primary school\", plot_titlefontsize=10)"
   ]
  },
  {
   "cell_type": "code",
   "execution_count": null,
   "id": "acafe843-baa0-42d7-8ebc-e2868954dc2f",
   "metadata": {
    "tags": []
   },
   "outputs": [],
   "source": [
    "png(p, \"distance.png\")"
   ]
  },
  {
   "cell_type": "code",
   "execution_count": null,
   "id": "704a20ae-672a-43a2-bcd0-78cc00342ab1",
   "metadata": {},
   "outputs": [],
   "source": []
  }
 ],
 "metadata": {
  "kernelspec": {
   "display_name": "Julia 1.6.3",
   "language": "julia",
   "name": "julia-1.6"
  },
  "language_info": {
   "file_extension": ".jl",
   "mimetype": "application/julia",
   "name": "julia",
   "version": "1.6.3"
  }
 },
 "nbformat": 4,
 "nbformat_minor": 5
}
